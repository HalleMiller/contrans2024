{
 "cells": [
  {
   "cell_type": "code",
   "execution_count": null,
   "metadata": {},
   "outputs": [],
   "source": [
    "from contrans import contrans\n",
    "import numpy as np\n",
    "import pandas as pd\n",
    "from dotenv import load_dotenv\n",
    "import os\n",
    "import json\n",
    "import requests\n",
    "#dotenv.load_dotenv()\n",
    "congresskey = os.getenv('congresskey')"
   ]
  },
  {
   "cell_type": "code",
   "execution_count": null,
   "metadata": {},
   "outputs": [],
   "source": [
    "ct = contrans()"
   ]
  },
  {
   "cell_type": "code",
   "execution_count": null,
   "metadata": {},
   "outputs": [],
   "source": [
    "goodbioguide = ct.get_bioguide(name='good', state='Virginia', district=5)\n",
    "goodbioguide"
   ]
  },
  {
   "cell_type": "code",
   "execution_count": null,
   "metadata": {},
   "outputs": [],
   "source": [
    "goodid = goodbioguide.reset_index()['bioguideId'][0]"
   ]
  },
  {
   "cell_type": "code",
   "execution_count": null,
   "metadata": {},
   "outputs": [],
   "source": [
    "goodid"
   ]
  },
  {
   "cell_type": "code",
   "execution_count": null,
   "metadata": {},
   "outputs": [],
   "source": [
    "billurl= goodsbills = ct.get_sponsoredlegislation(goodid)"
   ]
  },
  {
   "cell_type": "code",
   "execution_count": null,
   "metadata": {},
   "outputs": [],
   "source": [
    "goodsbills[0]['url'] ###this is an example f one bill\n"
   ]
  },
  {
   "cell_type": "code",
   "execution_count": null,
   "metadata": {},
   "outputs": [],
   "source": [
    "ct.get_billdata(billurl)"
   ]
  },
  {
   "cell_type": "code",
   "execution_count": null,
   "metadata": {},
   "outputs": [],
   "source": [
    "def get_billdata(billurl):\n",
    "    r = requests.get(billurl,\n",
    "                     params={'api_key': congresskey})\n",
    "    bill_json = json.loads(r.text)\n",
    "    texturl = bill_json['bill']['textVersions']['url']\n",
    "    r = requests.get(texturl,\n",
    "                 params={'api_key': congresskey})\n",
    "    toscrape= json.loads(r.text)['textversions'][0]['formats'][0]['url']\n",
    "    r = requests.get(toscrape)\n",
    "    mysoup = BeautifulSoup(r.text, 'html.parser')\n",
    "    billtext = mysoup.text\n",
    "    bill_json['text'] = billtext\n",
    "    return bill_json\n"
   ]
  },
  {
   "cell_type": "code",
   "execution_count": null,
   "metadata": {},
   "outputs": [],
   "source": [
    "r = requests.get(goodsbills[0]['url'],\n",
    "                 params={'api_key': congresskey})\n",
    "texturl= json.loads(r.text)['bill']['textVersions']['url']\n",
    "\n",
    "r = requests.get(texturl,\n",
    "                 params={'api_key': congresskey})\n",
    "toscrape= json.loads(r.text)['textversions'][0]['formats'][0]['url']\n"
   ]
  },
  {
   "cell_type": "code",
   "execution_count": null,
   "metadata": {},
   "outputs": [],
   "source": [
    "from bs4 import BeautifulSoup\n",
    "\n",
    "r = requests.get(toscrape)\n",
    "mysoup = BeautifulSoup(r.text, 'html.parser')\n",
    "billtext = mysoup.text"
   ]
  },
  {
   "cell_type": "code",
   "execution_count": null,
   "metadata": {},
   "outputs": [],
   "source": [
    "print(mysoup.text)"
   ]
  },
  {
   "cell_type": "code",
   "execution_count": null,
   "metadata": {},
   "outputs": [],
   "source": [
    "json.loads(r.text)['sponsoredLegislations'][0]"
   ]
  },
  {
   "cell_type": "code",
   "execution_count": null,
   "metadata": {},
   "outputs": [],
   "source": [
    "bioguides[['name', 'state', 'district', 'bioguideId']]"
   ]
  },
  {
   "cell_type": "code",
   "execution_count": null,
   "metadata": {},
   "outputs": [],
   "source": [
    "bioguides = ct.get_bioguideIDs()\n",
    "bioguides"
   ]
  },
  {
   "cell_type": "code",
   "execution_count": null,
   "metadata": {},
   "outputs": [],
   "source": [
    "members_df = ct.get_bioguideIDs()"
   ]
  },
  {
   "cell_type": "code",
   "execution_count": null,
   "metadata": {},
   "outputs": [],
   "source": [
    "members_df"
   ]
  },
  {
   "cell_type": "code",
   "execution_count": null,
   "metadata": {},
   "outputs": [],
   "source": [
    "votes = ct.get_votes()\n",
    "votes"
   ]
  },
  {
   "cell_type": "code",
   "execution_count": null,
   "metadata": {},
   "outputs": [],
   "source": [
    "house = votes.query('chamber == \"House\"')\n",
    "house = house[['rollnumber','icpsr','cast_code']]\n",
    "house"
   ]
  },
  {
   "cell_type": "code",
   "execution_count": null,
   "metadata": {},
   "outputs": [],
   "source": [
    "house_mat = pd.merge(house, house, on='rollnumber')\n",
    "house_mat"
   ]
  },
  {
   "cell_type": "code",
   "execution_count": null,
   "metadata": {},
   "outputs": [],
   "source": [
    "\n",
    "house_mat['agree'] = house_mat['cast_code_x'] == house_mat['cast_code_y']\n",
    "house_mat = house_mat.groupby(['icpsr_x', 'icpsr_y']).agg({'agree':'mean'})\n",
    "house_mat = house_mat.reset_index()\n",
    "house_mat"
   ]
  },
  {
   "cell_type": "code",
   "execution_count": null,
   "metadata": {},
   "outputs": [],
   "source": [
    "ideo = ct.get_ideology()\n",
    "members = ideo[['icpsr', 'party_code', 'bioname']]\n",
    "members"
   ]
  }
 ],
 "metadata": {
  "kernelspec": {
   "display_name": "Python 3",
   "language": "python",
   "name": "python3"
  },
  "language_info": {
   "codemirror_mode": {
    "name": "ipython",
    "version": 3
   },
   "file_extension": ".py",
   "mimetype": "text/x-python",
   "name": "python",
   "nbconvert_exporter": "python",
   "pygments_lexer": "ipython3",
   "version": "3.12.5"
  }
 },
 "nbformat": 4,
 "nbformat_minor": 2
}
