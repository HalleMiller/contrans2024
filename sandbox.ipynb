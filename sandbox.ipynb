{
 "cells": [
  {
   "cell_type": "code",
   "execution_count": 1,
   "metadata": {},
   "outputs": [],
   "source": [
    "from contrans import contrans\n",
    "import numpy as np\n",
    "import pandas as pd\n",
    "from dotenv import load_dotenv\n",
    "import os\n",
    "import json"
   ]
  },
  {
   "cell_type": "code",
   "execution_count": 2,
   "metadata": {},
   "outputs": [],
   "source": [
    "ct = contrans()"
   ]
  },
  {
   "cell_type": "code",
   "execution_count": 3,
   "metadata": {},
   "outputs": [],
   "source": [
    "goodbioguide = ct.get_bioguide(name='good', state='Virginia', district=5)"
   ]
  },
  {
   "cell_type": "code",
   "execution_count": 4,
   "metadata": {},
   "outputs": [],
   "source": [
    "goodid = goodbioguide.reset_index()['bioguideId'][0]"
   ]
  },
  {
   "cell_type": "code",
   "execution_count": 5,
   "metadata": {},
   "outputs": [
    {
     "data": {
      "text/plain": [
       "'G000595'"
      ]
     },
     "execution_count": 5,
     "metadata": {},
     "output_type": "execute_result"
    }
   ],
   "source": [
    "goodid"
   ]
  },
  {
   "cell_type": "code",
   "execution_count": null,
   "metadata": {},
   "outputs": [],
   "source": [
    "\n",
    "\n",
    "        #def get_sponsored_legislation(self):\n",
    "            #params = {'api_key':self.congresskey,\n",
    "                      'limit':1}\n",
    "            #headers = self.make_headers()\n",
    "            #root = 'https://api.congress.gov/v3'\n",
    "            #endpoint = 'member/{bioguideId}/sponsored-legislation'\n",
    "            #r = requests.get(root + endpoint,\n",
    "                             params=params,\n",
    "                             headers=headers)\n",
    "            "
   ]
  },
  {
   "cell_type": "code",
   "execution_count": 10,
   "metadata": {},
   "outputs": [
    {
     "ename": "NameError",
     "evalue": "name 'congresskey' is not defined",
     "output_type": "error",
     "traceback": [
      "\u001b[0;31m---------------------------------------------------------------------------\u001b[0m",
      "\u001b[0;31mNameError\u001b[0m                                 Traceback (most recent call last)",
      "Cell \u001b[0;32mIn[10], line 6\u001b[0m\n\u001b[1;32m      4\u001b[0m endpoint \u001b[38;5;241m=\u001b[39m \u001b[38;5;124mf\u001b[39m\u001b[38;5;124m'\u001b[39m\u001b[38;5;124m/member/\u001b[39m\u001b[38;5;132;01m{\u001b[39;00mgoodid\u001b[38;5;132;01m}\u001b[39;00m\u001b[38;5;124m/sponsored-legislation\u001b[39m\u001b[38;5;124m'\u001b[39m\n\u001b[1;32m      5\u001b[0m headers \u001b[38;5;241m=\u001b[39m ct\u001b[38;5;241m.\u001b[39mmake_headers()\n\u001b[0;32m----> 6\u001b[0m params \u001b[38;5;241m=\u001b[39m {\u001b[38;5;124m'\u001b[39m\u001b[38;5;124mapi_key\u001b[39m\u001b[38;5;124m'\u001b[39m: \u001b[43mcongresskey\u001b[49m,\n\u001b[1;32m      7\u001b[0m         \u001b[38;5;124m'\u001b[39m\u001b[38;5;124mlimit\u001b[39m\u001b[38;5;124m'\u001b[39m: \u001b[38;5;241m1\u001b[39m}\n\u001b[1;32m      8\u001b[0m r \u001b[38;5;241m=\u001b[39m requests\u001b[38;5;241m.\u001b[39mget(root \u001b[38;5;241m+\u001b[39m endpoint,\n\u001b[1;32m      9\u001b[0m                  headers\u001b[38;5;241m=\u001b[39mheaders,\n\u001b[1;32m     10\u001b[0m                  params\u001b[38;5;241m=\u001b[39mparams)     \n\u001b[1;32m     11\u001b[0m r\n",
      "\u001b[0;31mNameError\u001b[0m: name 'congresskey' is not defined"
     ]
    }
   ],
   "source": [
    "# Sponsored Legislation\n",
    "\n",
    "root = 'https://api.congress.gov/v3'\n",
    "endpoint = f'/member/{goodid}/sponsored-legislation'\n",
    "headers = ct.make_headers()\n",
    "params = {'api_key': congresskey,\n",
    "        'limit': 1}\n",
    "r = requests.get(root + endpoint,\n",
    "                 headers=headers,\n",
    "                 params=params)     \n",
    "r\n"
   ]
  },
  {
   "cell_type": "code",
   "execution_count": null,
   "metadata": {},
   "outputs": [],
   "source": [
    "r.text"
   ]
  },
  {
   "cell_type": "code",
   "execution_count": null,
   "metadata": {},
   "outputs": [],
   "source": [
    "json.loads(r.text)['sponsoredLegislations'][0]"
   ]
  },
  {
   "cell_type": "code",
   "execution_count": null,
   "metadata": {},
   "outputs": [],
   "source": [
    "bioguides[['name', 'state', 'district', 'bioguideId']]"
   ]
  },
  {
   "cell_type": "code",
   "execution_count": null,
   "metadata": {},
   "outputs": [],
   "source": [
    "bioguides = ct.get_bioguideIDs()\n",
    "bioguides"
   ]
  },
  {
   "cell_type": "code",
   "execution_count": null,
   "metadata": {},
   "outputs": [],
   "source": [
    "members_df = ct.get_bioguideIDs()"
   ]
  },
  {
   "cell_type": "code",
   "execution_count": null,
   "metadata": {},
   "outputs": [],
   "source": [
    "members_df"
   ]
  },
  {
   "cell_type": "code",
   "execution_count": null,
   "metadata": {},
   "outputs": [],
   "source": [
    "votes = ct.get_votes()\n",
    "votes"
   ]
  },
  {
   "cell_type": "code",
   "execution_count": null,
   "metadata": {},
   "outputs": [],
   "source": [
    "house = votes.query('chamber == \"House\"')\n",
    "house = house[['rollnumber','icpsr','cast_code']]\n",
    "house"
   ]
  },
  {
   "cell_type": "code",
   "execution_count": null,
   "metadata": {},
   "outputs": [],
   "source": [
    "house_mat = pd.merge(house, house, on='rollnumber')\n",
    "house_mat"
   ]
  },
  {
   "cell_type": "code",
   "execution_count": null,
   "metadata": {},
   "outputs": [],
   "source": [
    "\n",
    "house_mat['agree'] = house_mat['cast_code_x'] == house_mat['cast_code_y']\n",
    "house_mat = house_mat.groupby(['icpsr_x', 'icpsr_y']).agg({'agree':'mean'})\n",
    "house_mat = house_mat.reset_index()\n",
    "house_mat"
   ]
  },
  {
   "cell_type": "code",
   "execution_count": null,
   "metadata": {},
   "outputs": [],
   "source": [
    "ideo = ct.get_ideology()\n",
    "members = ideo[['icpsr', 'party_code', 'bioname']]\n",
    "members"
   ]
  }
 ],
 "metadata": {
  "kernelspec": {
   "display_name": "Python 3",
   "language": "python",
   "name": "python3"
  },
  "language_info": {
   "codemirror_mode": {
    "name": "ipython",
    "version": 3
   },
   "file_extension": ".py",
   "mimetype": "text/x-python",
   "name": "python",
   "nbconvert_exporter": "python",
   "pygments_lexer": "ipython3",
   "version": "3.12.5"
  }
 },
 "nbformat": 4,
 "nbformat_minor": 2
}
