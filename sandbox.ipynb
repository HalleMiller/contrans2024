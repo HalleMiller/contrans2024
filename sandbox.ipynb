{
 "cells": [
  {
   "cell_type": "code",
   "execution_count": 1,
   "metadata": {},
   "outputs": [],
   "source": [
    "from contrans import contrans\n",
    "import numpy as np\n",
    "import pandas as pd\n",
    "from dotenv import load_dotenv\n",
    "import os\n",
    "import json\n",
    "import requests\n",
    "#dotenv.load_dotenv()\n",
    "congresskey = os.getenv('congresskey')\n",
    "newskey = os.getenv('newskey')"
   ]
  },
  {
   "cell_type": "code",
   "execution_count": 2,
   "metadata": {},
   "outputs": [],
   "source": [
    "ct = contrans()"
   ]
  },
  {
   "cell_type": "code",
   "execution_count": null,
   "metadata": {},
   "outputs": [],
   "source": []
  },
  {
   "cell_type": "code",
   "execution_count": null,
   "metadata": {},
   "outputs": [],
   "source": [
    "        def get_news(self, name):\n",
    "            params = {'api_key': self.newskey}\n",
    "            root = 'https://api.newscatcherapi.com/v2/search'\n",
    "            endpoint = '/?q='\n",
    "            r = requests.get(root + endpoint,\n",
    "                             params=params)"
   ]
  },
  {
   "cell_type": "code",
   "execution_count": 5,
   "metadata": {},
   "outputs": [
    {
     "name": "stdout",
     "output_type": "stream",
     "text": [
      "None\n"
     ]
    }
   ],
   "source": [
    "goodnews = ct.get_news(name='bob good')\n",
    "print(goodnews)"
   ]
  },
  {
   "cell_type": "code",
   "execution_count": null,
   "metadata": {},
   "outputs": [],
   "source": [
    "goodbioguide = ct.get_bioguide(name='good', state='Virginia', district=5)\n",
    "goodbioguide"
   ]
  },
  {
   "cell_type": "code",
   "execution_count": null,
   "metadata": {},
   "outputs": [],
   "source": [
    "goodid = goodbioguide.reset_index()['bioguideId'][0]"
   ]
  },
  {
   "cell_type": "code",
   "execution_count": null,
   "metadata": {},
   "outputs": [],
   "source": [
    "goodid"
   ]
  },
  {
   "cell_type": "code",
   "execution_count": null,
   "metadata": {},
   "outputs": [],
   "source": [
    "goodsbills = ct.get_sponsoredlegislation(goodid)"
   ]
  },
  {
   "cell_type": "code",
   "execution_count": null,
   "metadata": {},
   "outputs": [],
   "source": [
    "billurl = goodsbills[0]['url'] ###this is an example f one bill\n"
   ]
  },
  {
   "cell_type": "code",
   "execution_count": null,
   "metadata": {},
   "outputs": [],
   "source": [
    "ct.get_billdata(billurl)"
   ]
  },
  {
   "cell_type": "code",
   "execution_count": null,
   "metadata": {},
   "outputs": [],
   "source": [
    "def get_billdata(billurl):\n",
    "    r = requests.get(billurl,\n",
    "                     params={'api_key': congresskey})\n",
    "    bill_json = json.loads(r.text)\n",
    "    texturl = bill_json['bill']['textVersions']['url']\n",
    "    r = requests.get(texturl,\n",
    "                 params={'api_key': congresskey})\n",
    "    toscrape= json.loads(r.text)['textversions'][0]['formats'][0]['url']\n",
    "    r = requests.get(toscrape)\n",
    "    mysoup = BeautifulSoup(r.text, 'html.parser')\n",
    "    billtext = mysoup.text\n",
    "    bill_json['text'] = billtext\n",
    "    return bill_json\n"
   ]
  },
  {
   "cell_type": "code",
   "execution_count": null,
   "metadata": {},
   "outputs": [],
   "source": [
    "r = requests.get(goodsbills[0]['url'],\n",
    "                 params={'api_key': congresskey})\n",
    "texturl= json.loads(r.text)['bill']['textVersions']['url']\n",
    "\n",
    "r = requests.get(texturl,\n",
    "                 params={'api_key': congresskey})\n",
    "toscrape= json.loads(r.text)['textVersions'][0]['formats'][0]['url']\n"
   ]
  },
  {
   "cell_type": "code",
   "execution_count": null,
   "metadata": {},
   "outputs": [],
   "source": [
    "from bs4 import BeautifulSoup\n",
    "\n",
    "r = requests.get(toscrape)\n",
    "mysoup = BeautifulSoup(r.text, 'html.parser')\n",
    "billtext = mysoup.text"
   ]
  },
  {
   "cell_type": "code",
   "execution_count": null,
   "metadata": {},
   "outputs": [],
   "source": [
    "print(mysoup.text)"
   ]
  }
 ],
 "metadata": {
  "kernelspec": {
   "display_name": "Python 3",
   "language": "python",
   "name": "python3"
  },
  "language_info": {
   "codemirror_mode": {
    "name": "ipython",
    "version": 3
   },
   "file_extension": ".py",
   "mimetype": "text/x-python",
   "name": "python",
   "nbconvert_exporter": "python",
   "pygments_lexer": "ipython3",
   "version": "3.12.5"
  }
 },
 "nbformat": 4,
 "nbformat_minor": 2
}
