{
 "cells": [
  {
   "cell_type": "code",
   "execution_count": 1,
   "metadata": {},
   "outputs": [],
   "source": [
    "from contrans import contrans\n",
    "import numpy as np\n",
    "import pandas as pd\n",
    "from dotenv import load_dotenv\n",
    "import os\n",
    "import json\n",
    "import requests\n",
    "import psycopg\n",
    "from sqlalchemy import create_engine\n",
    "#dotenv.load_dotenv()\n",
    "congresskey = os.getenv('congresskey')\n",
    "newskey = os.getenv('newskey')\n",
    "postgres_password = os.getenv('POSTGRES_PASSWORD')"
   ]
  },
  {
   "cell_type": "code",
   "execution_count": 2,
   "metadata": {},
   "outputs": [],
   "source": [
    "ct = contrans()"
   ]
  },
  {
   "cell_type": "code",
   "execution_count": 3,
   "metadata": {},
   "outputs": [],
   "source": [
    "#dont run again with from_scratch=True if you dont want to overwrite\n",
    "mongo_bills = ct.connect_to_mongo(from_scratch=True)"
   ]
  },
  {
   "cell_type": "code",
   "execution_count": 4,
   "metadata": {},
   "outputs": [
    {
     "data": {
      "text/plain": [
       "0      N000188\n",
       "1      Y000064\n",
       "2      W000802\n",
       "3      W000800\n",
       "4      W000779\n",
       "        ...   \n",
       "547    H001038\n",
       "548    S001222\n",
       "549    S001192\n",
       "550    F000062\n",
       "551    S001197\n",
       "Name: bioguideId, Length: 552, dtype: object"
      ]
     },
     "execution_count": 4,
     "metadata": {},
     "output_type": "execute_result"
    }
   ],
   "source": [
    "bioguideIDs = ct.get_bioguideIDs()\n",
    "members = bioguideIDs ['bioguideId']\n",
    "members"
   ]
  },
  {
   "cell_type": "code",
   "execution_count": 5,
   "metadata": {},
   "outputs": [
    {
     "name": "stdout",
     "output_type": "stream",
     "text": [
      "Now uploading bills from N000188 to MongoDB\n",
      "Now uploading bills from Y000064 to MongoDB\n",
      "Now uploading bills from W000802 to MongoDB\n",
      "Now uploading bills from W000800 to MongoDB\n",
      "Now uploading bills from W000779 to MongoDB\n",
      "Now uploading bills from W000437 to MongoDB\n",
      "Now uploading bills from V000137 to MongoDB\n",
      "Now uploading bills from W000790 to MongoDB\n",
      "Now uploading bills from T000278 to MongoDB\n",
      "Now uploading bills from W000817 to MongoDB\n"
     ]
    },
    {
     "ename": "KeyError",
     "evalue": "'textVersions'",
     "output_type": "error",
     "traceback": [
      "\u001b[0;31m---------------------------------------------------------------------------\u001b[0m",
      "\u001b[0;31mKeyError\u001b[0m                                  Traceback (most recent call last)",
      "Cell \u001b[0;32mIn[5], line 1\u001b[0m\n\u001b[0;32m----> 1\u001b[0m \u001b[43mct\u001b[49m\u001b[38;5;241;43m.\u001b[39;49m\u001b[43mupload_many_members_to_mongo\u001b[49m\u001b[43m(\u001b[49m\u001b[43mmongo_bills\u001b[49m\u001b[43m,\u001b[49m\u001b[43m \u001b[49m\u001b[43mmembers\u001b[49m\u001b[43m)\u001b[49m\n",
      "File \u001b[0;32m~/Desktop/Data_Engineering_1/contrans2024/contrans.py:261\u001b[0m, in \u001b[0;36mcontrans.upload_many_members_to_mongo\u001b[0;34m(self, mongo_bills, members)\u001b[0m\n\u001b[1;32m    259\u001b[0m status \u001b[38;5;241m=\u001b[39m \u001b[38;5;124mf\u001b[39m\u001b[38;5;124m'\u001b[39m\u001b[38;5;124mNow uploading bills from \u001b[39m\u001b[38;5;132;01m{\u001b[39;00mm\u001b[38;5;132;01m}\u001b[39;00m\u001b[38;5;124m to MongoDB\u001b[39m\u001b[38;5;124m'\u001b[39m\n\u001b[1;32m    260\u001b[0m \u001b[38;5;28mprint\u001b[39m(status)\n\u001b[0;32m--> 261\u001b[0m \u001b[38;5;28;43mself\u001b[39;49m\u001b[38;5;241;43m.\u001b[39;49m\u001b[43mupload_one_member_to_mongo\u001b[49m\u001b[43m(\u001b[49m\u001b[43mmongo_bills\u001b[49m\u001b[43m,\u001b[49m\u001b[43m \u001b[49m\u001b[43mm\u001b[49m\u001b[43m)\u001b[49m\n",
      "File \u001b[0;32m~/Desktop/Data_Engineering_1/contrans2024/contrans.py:254\u001b[0m, in \u001b[0;36mcontrans.upload_one_member_to_mongo\u001b[0;34m(self, mongo_bills, bioguide)\u001b[0m\n\u001b[1;32m    252\u001b[0m \u001b[38;5;28;01mdef\u001b[39;00m \u001b[38;5;21mupload_one_member_to_mongo\u001b[39m(\u001b[38;5;28mself\u001b[39m, mongo_bills, bioguide):\n\u001b[1;32m    253\u001b[0m       bill_list\u001b[38;5;241m=\u001b[39m \u001b[38;5;28mself\u001b[39m\u001b[38;5;241m.\u001b[39mget_sponsoredlegislation(bioguide)\n\u001b[0;32m--> 254\u001b[0m       bill_list_with_text \u001b[38;5;241m=\u001b[39m [\u001b[38;5;28;43mself\u001b[39;49m\u001b[38;5;241;43m.\u001b[39;49m\u001b[43mget_billdata\u001b[49m\u001b[43m(\u001b[49m\u001b[43mx\u001b[49m\u001b[43m[\u001b[49m\u001b[38;5;124;43m'\u001b[39;49m\u001b[38;5;124;43murl\u001b[39;49m\u001b[38;5;124;43m'\u001b[39;49m\u001b[43m]\u001b[49m\u001b[43m)\u001b[49m \u001b[38;5;28;01mfor\u001b[39;00m x \u001b[38;5;129;01min\u001b[39;00m bill_list]\n\u001b[1;32m    255\u001b[0m       mongo_bills\u001b[38;5;241m.\u001b[39minsert_many(bill_list_with_text)\n",
      "File \u001b[0;32m~/Desktop/Data_Engineering_1/contrans2024/contrans.py:149\u001b[0m, in \u001b[0;36mcontrans.get_billdata\u001b[0;34m(self, billurl)\u001b[0m\n\u001b[1;32m    146\u001b[0m r \u001b[38;5;241m=\u001b[39m requests\u001b[38;5;241m.\u001b[39mget(billurl,\n\u001b[1;32m    147\u001b[0m                 params \u001b[38;5;241m=\u001b[39m {\u001b[38;5;124m'\u001b[39m\u001b[38;5;124mapi_key\u001b[39m\u001b[38;5;124m'\u001b[39m: \u001b[38;5;28mself\u001b[39m\u001b[38;5;241m.\u001b[39mcongresskey})\n\u001b[1;32m    148\u001b[0m bill_json \u001b[38;5;241m=\u001b[39m json\u001b[38;5;241m.\u001b[39mloads(r\u001b[38;5;241m.\u001b[39mtext)\n\u001b[0;32m--> 149\u001b[0m texturl \u001b[38;5;241m=\u001b[39m \u001b[43mbill_json\u001b[49m\u001b[43m[\u001b[49m\u001b[38;5;124;43m'\u001b[39;49m\u001b[38;5;124;43mbill\u001b[39;49m\u001b[38;5;124;43m'\u001b[39;49m\u001b[43m]\u001b[49m\u001b[43m[\u001b[49m\u001b[38;5;124;43m'\u001b[39;49m\u001b[38;5;124;43mtextVersions\u001b[39;49m\u001b[38;5;124;43m'\u001b[39;49m\u001b[43m]\u001b[49m[\u001b[38;5;124m'\u001b[39m\u001b[38;5;124murl\u001b[39m\u001b[38;5;124m'\u001b[39m]\n\u001b[1;32m    150\u001b[0m r \u001b[38;5;241m=\u001b[39m requests\u001b[38;5;241m.\u001b[39mget(texturl,\n\u001b[1;32m    151\u001b[0m             params\u001b[38;5;241m=\u001b[39m{\u001b[38;5;124m'\u001b[39m\u001b[38;5;124mapi_key\u001b[39m\u001b[38;5;124m'\u001b[39m: \u001b[38;5;28mself\u001b[39m\u001b[38;5;241m.\u001b[39mcongresskey})\n\u001b[1;32m    152\u001b[0m toscrape\u001b[38;5;241m=\u001b[39m json\u001b[38;5;241m.\u001b[39mloads(r\u001b[38;5;241m.\u001b[39mtext)[\u001b[38;5;124m'\u001b[39m\u001b[38;5;124mtextVersions\u001b[39m\u001b[38;5;124m'\u001b[39m][\u001b[38;5;241m0\u001b[39m][\u001b[38;5;124m'\u001b[39m\u001b[38;5;124mformats\u001b[39m\u001b[38;5;124m'\u001b[39m][\u001b[38;5;241m0\u001b[39m][\u001b[38;5;124m'\u001b[39m\u001b[38;5;124murl\u001b[39m\u001b[38;5;124m'\u001b[39m]\n",
      "\u001b[0;31mKeyError\u001b[0m: 'textVersions'"
     ]
    }
   ],
   "source": [
    "ct.upload_many_members_to_mongo(mongo_bills, members)"
   ]
  },
  {
   "cell_type": "code",
   "execution_count": null,
   "metadata": {},
   "outputs": [],
   "source": []
  }
 ],
 "metadata": {
  "kernelspec": {
   "display_name": ".venv",
   "language": "python",
   "name": "python3"
  },
  "language_info": {
   "codemirror_mode": {
    "name": "ipython",
    "version": 3
   },
   "file_extension": ".py",
   "mimetype": "text/x-python",
   "name": "python",
   "nbconvert_exporter": "python",
   "pygments_lexer": "ipython3",
   "version": "3.12.5"
  }
 },
 "nbformat": 4,
 "nbformat_minor": 2
}
